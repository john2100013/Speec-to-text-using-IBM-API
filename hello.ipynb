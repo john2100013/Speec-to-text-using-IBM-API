{
 "cells": [
  {
   "attachments": {},
   "cell_type": "markdown",
   "metadata": {},
   "source": [
    "<h4>IBM Watson is a suite of artificial intelligence (AI) services and applications provided by IBM. It offers a range of AI-powered capabilities, such as natural language processing, machine learning, computer vision, and data analytics. These services enable developers to incorporate AI functionality into their applications without having to build the underlying AI algorithms from scratch.IBM Watson is a suite of artificial intelligence (AI) services and applications provided by IBM. It offers a range of AI-powered capabilities, such as natural language processing, machine learning, computer vision, and data analytics. These services enable developers to incorporate AI functionality into their applications without having to build the underlying AI algorithms from scratch.</h4>"
   ]
  },
  {
   "cell_type": "code",
   "execution_count": 1,
   "metadata": {},
   "outputs": [
    {
     "name": "stdout",
     "output_type": "stream",
     "text": [
      "Defaulting to user installation because normal site-packages is not writeableNote: you may need to restart the kernel to use updated packages.\n",
      "\n",
      "Requirement already satisfied: ibm-watson in c:\\users\\ayand\\appdata\\roaming\\python\\python311\\site-packages (7.0.0)\n",
      "Requirement already satisfied: requests<3.0,>=2.0 in c:\\users\\ayand\\appdata\\roaming\\python\\python311\\site-packages (from ibm-watson) (2.31.0)\n",
      "Requirement already satisfied: python-dateutil>=2.5.3 in c:\\users\\ayand\\appdata\\roaming\\python\\python311\\site-packages (from ibm-watson) (2.8.2)\n",
      "Requirement already satisfied: websocket-client==1.1.0 in c:\\users\\ayand\\appdata\\roaming\\python\\python311\\site-packages (from ibm-watson) (1.1.0)\n",
      "Requirement already satisfied: ibm-cloud-sdk-core==3.*,>=3.3.6 in c:\\users\\ayand\\appdata\\roaming\\python\\python311\\site-packages (from ibm-watson) (3.16.7)\n",
      "Requirement already satisfied: urllib3<2.0.0,>=1.26.0 in c:\\users\\ayand\\appdata\\roaming\\python\\python311\\site-packages (from ibm-cloud-sdk-core==3.*,>=3.3.6->ibm-watson) (1.26.16)\n",
      "Requirement already satisfied: PyJWT<3.0.0,>=2.4.0 in c:\\users\\ayand\\appdata\\roaming\\python\\python311\\site-packages (from ibm-cloud-sdk-core==3.*,>=3.3.6->ibm-watson) (2.7.0)\n",
      "Requirement already satisfied: six>=1.5 in c:\\users\\ayand\\appdata\\roaming\\python\\python311\\site-packages (from python-dateutil>=2.5.3->ibm-watson) (1.16.0)\n",
      "Requirement already satisfied: charset-normalizer<4,>=2 in c:\\users\\ayand\\appdata\\roaming\\python\\python311\\site-packages (from requests<3.0,>=2.0->ibm-watson) (2.0.12)\n",
      "Requirement already satisfied: idna<4,>=2.5 in c:\\users\\ayand\\appdata\\roaming\\python\\python311\\site-packages (from requests<3.0,>=2.0->ibm-watson) (3.4)\n",
      "Requirement already satisfied: certifi>=2017.4.17 in c:\\users\\ayand\\appdata\\roaming\\python\\python311\\site-packages (from requests<3.0,>=2.0->ibm-watson) (2023.5.7)\n"
     ]
    },
    {
     "name": "stderr",
     "output_type": "stream",
     "text": [
      "\n",
      "[notice] A new release of pip available: 22.3.1 -> 23.1.2\n",
      "[notice] To update, run: python.exe -m pip install --upgrade pip\n"
     ]
    }
   ],
   "source": [
    "%pip install ibm-watson"
   ]
  },
  {
   "cell_type": "code",
   "execution_count": 2,
   "metadata": {},
   "outputs": [],
   "source": [
    "from ibm_watson import SpeechToTextV1\n",
    "#This line imports the SpeechToTextV1 class from the ibm_watson module. The SpeechToTextV1 class is part of the IBM Watson Speech to Text service. It provides methods and functionality for converting spoken language into written text. By importing this class, you can use its methods to perform speech-to-text conversions using IBM Watson's Speech to Text service.\n",
    "\n",
    "\n",
    "from ibm_cloud_sdk_core.authenticators import IAMAuthenticator\n",
    "#This line imports the IAMAuthenticator class from the ibm_cloud_sdk_core.authenticators module. The IAMAuthenticator class is used to authenticate and authorize requests made to IBM Cloud services, including IBM Watson services. It provides a mechanism for securely authenticating API requests using IBM's Identity and Access Management (IAM) service. By importing this class, you can create an instance of IAMAuthenticator and configure it with your IAM API key to authenticate your requests when using IBM Watson services."
   ]
  },
  {
   "cell_type": "code",
   "execution_count": 3,
   "metadata": {},
   "outputs": [],
   "source": [
    "apiUrl = \"https://api.au-syd.speech-to-text.watson.cloud.ibm.com/instances/a1c5b32a-fe3a-4680-8aa5-0fb4ce08846d\"\n",
    "myKey = \"ZEIc4iSX-GzM40msJo7vudJr0aFXh9Z0iBm7eDjaJCS8\""
   ]
  },
  {
   "cell_type": "code",
   "execution_count": 4,
   "metadata": {},
   "outputs": [],
   "source": [
    "auth = IAMAuthenticator(myKey)\n",
    "#IAMAuthenticator(myKey) creates an instance of the IAMAuthenticator class, passing the myKey variable as a parameter. This associates the API key with the authenticator instance. By providing the API key to the authenticator, it enables the authenticator to include the necessary authentication information when making requests to the IBM Watson Speech to Text service. This helps ensure that only authorized users with valid API keys can access the service and perform actions like speech-to-text conversions.\n",
    "\n",
    "Speech2Text = SpeechToTextV1(authenticator = auth)\n",
    "#This line creates an instance of the SpeechToTextV1 class and assigns it to the variable Speech2Text. The SpeechToTextV1 class is part of the IBM Watson Speech to Text service and provides methods and functionality for converting spoken language into written text. The authenticator=auth parameter specifies that the Speech2Text instance should use the authenticator object (created previously) for authentication. By passing the authenticator object to the SpeechToTextV1 constructor, the instance is configured to authenticate requests made to the IBM Watson Speech to Text service using the provided API key.\n",
    "\n",
    "Speech2Text.set_service_url(apiUrl)\n",
    "#This line sets the service URL for the Speech2Text instance. The set_service_url method is provided by the SpeechToTextV1 class and is used to specify the endpoint URL of the IBM Watson Speech to Text service that the instance will communicate with. apiUrl is a variable (presumably defined earlier in the code) that represents the URL of the IBM Watson Speech to Text service. By passing this URL to the set_service_url method, the Speech2Text instance is configured to send requests to the specified endpoint when performing speech-to-text conversions."
   ]
  },
  {
   "cell_type": "code",
   "execution_count": 6,
   "metadata": {},
   "outputs": [],
   "source": [
    "with open(\"test_audio.wav\", mode=\"rb\") as wav: \n",
    "#This line opens the file \"test_audio.wav\" in binary mode (mode=\"rb\"). The with statement is used here to ensure proper handling and automatic cleanup of the file resource after it's used. By opening the file in binary mode (\"rb\"), it indicates that the file should be read as binary data. This is important when working with audio files, as they typically contain binary audio data. The wav variable is assigned as the file object, which represents the opened file. It can be used to read the contents of the file.\n",
    "\n",
    "    response = Speech2Text.recognize(audio=wav, content_type=\"audio/wav\")\n",
    "    #This line sends a recognition request to the IBM Watson Speech to Text service using the s2t instance created earlier. The recognize method is provided by the SpeechToTextV1 class. It is used to send audio data for speech-to-text conversion. The audio parameter is set to wav, which represents the file object obtained from opening \"test_audio.wav\". This provides the audio data to be sent for recognition. The content_type parameter is set to \"audio/wav\" to specify the type of audio data being sent. In this case, it indicates that the audio data is in WAV format. The content type helps the service understand the format of the audio data being provided. The result of the recognition request is stored in the response variable, which will contain the output from the IBM Watson Speech to Text service, such as the transcribed text or other relevant information.\n",
    "\n",
    "    \n",
    "    recognized_text = response.result['results'][0]['alternatives'][0]['transcript']\n",
    "    #This line extracts the recognized text from the response received from the IBM Watson Speech to Text service and assigns it to the variable recognized_text. Here's a breakdown of the expression: response.result retrieves the JSON response received from the IBM Watson Speech to Text service.['results'][0] accesses the first element in the \"results\" array within the response. The Speech to Text service may provide multiple results, such as different transcriptions or alternatives. ['alternatives'][0] accesses the first alternative within the \"alternatives\" array of the selected result. An alternative represents a possible transcription for the given audio. ['transcript'] retrieves the \"transcript\" field from the selected alternative, which contains the recognized text. By combining these expressions, the line extracts the recognized text from the response and stores it in the recognized_text variable for further usage or display.\n"
   ]
  },
  {
   "cell_type": "code",
   "execution_count": 7,
   "metadata": {},
   "outputs": [
    {
     "data": {
      "text/plain": [
       "'in this video we are learning that how to convert speech to text using IBM Watson '"
      ]
     },
     "execution_count": 7,
     "metadata": {},
     "output_type": "execute_result"
    }
   ],
   "source": [
    "recognized_text\n",
    "#Printing the text version of the speech"
   ]
  },
  {
   "cell_type": "code",
   "execution_count": null,
   "metadata": {},
   "outputs": [],
   "source": []
  }
 ],
 "metadata": {
  "kernelspec": {
   "display_name": "Python 3",
   "language": "python",
   "name": "python3"
  },
  "language_info": {
   "codemirror_mode": {
    "name": "ipython",
    "version": 3
   },
   "file_extension": ".py",
   "mimetype": "text/x-python",
   "name": "python",
   "nbconvert_exporter": "python",
   "pygments_lexer": "ipython3",
   "version": "3.11.1"
  },
  "orig_nbformat": 4
 },
 "nbformat": 4,
 "nbformat_minor": 2
}
